{
 "cells": [
  {
   "cell_type": "code",
   "execution_count": 3,
   "id": "00d0513b-af66-434b-8d12-bf76349a4308",
   "metadata": {},
   "outputs": [],
   "source": [
    "# 1. Read and display file contents\n",
    "def read_file(filename):\n",
    "    \"\"\"Reads a file and displays its contents.\"\"\"\n",
    "    try:\n",
    "        with open(filename, 'r') as file:\n",
    "            print(file.read())\n",
    "    except FileNotFoundError:\n",
    "        \n",
    "        print(\"File not found!\")\n"
   ]
  },
  {
   "cell_type": "code",
   "execution_count": 5,
   "id": "307a562a-ce3e-481c-8805-06b13adbc32a",
   "metadata": {},
   "outputs": [],
   "source": [
    "# 2. Copy contents from one file to another\n",
    "def copy_file(source, destination):\n",
    "    \"\"\"Copies contents from source file to destination file.\"\"\"\n",
    "    try:\n",
    "        with open(source, 'r') as src, open(destination, 'w') as dest:\n",
    "            dest.write(src.read())\n",
    "    except FileNotFoundError:\n",
    "        print(\"Source file not found!\")\n"
   ]
  },
  {
   "cell_type": "code",
   "execution_count": 7,
   "id": "8371f5d2-c138-4a8d-8529-3ff18ec4cf51",
   "metadata": {},
   "outputs": [],
   "source": [
    "# 3. Count total words in a file\n",
    "def count_words(filename):\n",
    "    \"\"\"Counts the total number of words in a file.\"\"\"\n",
    "    try:\n",
    "        with open(filename, 'r') as file:\n",
    "            return len(file.read().split())\n",
    "    except FileNotFoundError:\n",
    "        print(\"File not found!\")\n",
    "\n"
   ]
  },
  {
   "cell_type": "code",
   "execution_count": 9,
   "id": "b54b98ad-1c29-4039-baf5-11fbbe32165c",
   "metadata": {},
   "outputs": [],
   "source": [
    "# 4. Convert string input to integer with exception handling\n",
    "def string_to_int():\n",
    "    \"\"\"Prompts user for a string and converts it to an integer with error handling.\"\"\"\n",
    "    try:\n",
    "        num = int(input(\"Enter an integer: \"))\n",
    "        print(\"Converted integer:\", num)\n",
    "    except ValueError:\n",
    "        print(\"Invalid input! Please enter a valid integer.\")\n"
   ]
  },
  {
   "cell_type": "code",
   "execution_count": 11,
   "id": "ed55dca1-d67c-4662-a3e5-7b293d5b225f",
   "metadata": {},
   "outputs": [],
   "source": [
    "# 5. Check for negative numbers in a list\n",
    "def check_negatives():\n",
    "    \"\"\"Prompts user for a list of integers and raises an exception if any are negative.\"\"\"\n",
    "    try:\n",
    "        numbers = list(map(int, input(\"Enter a list of integers (space-separated): \").split()))\n",
    "        if any(num < 0 for num in numbers):\n",
    "            raise ValueError(\"Negative numbers are not allowed!\")\n",
    "        print(\"All numbers are non-negative.\")\n",
    "    except ValueError as e:\n",
    "        print(f\"Error: {e}\")"
   ]
  },
  {
   "cell_type": "code",
   "execution_count": 13,
   "id": "0c499267-d2f3-4a0d-8b42-2997906cf1d8",
   "metadata": {},
   "outputs": [],
   "source": [
    "# 6. Compute the average of a list with exception handling\n",
    "def compute_average():\n",
    "    \"\"\"Computes the average of a list of integers with error handling.\"\"\"\n",
    "    try:\n",
    "        numbers = list(map(int, input(\"Enter a list of integers (space-separated): \").split()))\n",
    "        avg = sum(numbers) / len(numbers)\n",
    "        print(\"Average:\", avg)\n",
    "    except ZeroDivisionError:\n",
    "        print(\"Error: Cannot compute average of an empty list.\")\n",
    "    except ValueError:\n",
    "        print(\"Invalid input! Please enter only integers.\")\n",
    "    finally:\n",
    "        print(\"Program execution completed.\")"
   ]
  },
  {
   "cell_type": "code",
   "execution_count": null,
   "id": "6617456f-5f4c-4fed-b37a-a807ec0e9143",
   "metadata": {},
   "outputs": [],
   "source": []
  }
 ],
 "metadata": {
  "kernelspec": {
   "display_name": "Python [conda env:base] *",
   "language": "python",
   "name": "conda-base-py"
  },
  "language_info": {
   "codemirror_mode": {
    "name": "ipython",
    "version": 3
   },
   "file_extension": ".py",
   "mimetype": "text/x-python",
   "name": "python",
   "nbconvert_exporter": "python",
   "pygments_lexer": "ipython3",
   "version": "3.12.7"
  }
 },
 "nbformat": 4,
 "nbformat_minor": 5
}
