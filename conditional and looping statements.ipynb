{
 "cells": [
  {
   "cell_type": "markdown",
   "id": "e49641ff-9239-448a-816f-906d0596b8e6",
   "metadata": {},
   "source": [
    "## Conditional and looping statements"
   ]
  },
  {
   "cell_type": "code",
   "execution_count": 9,
   "id": "f1049da4-3c74-4b99-bef3-b0a1398a4be6",
   "metadata": {},
   "outputs": [
    {
     "name": "stdin",
     "output_type": "stream",
     "text": [
      "Enter the month:  3\n"
     ]
    },
    {
     "name": "stdout",
     "output_type": "stream",
     "text": [
      "Month 3 is March\n"
     ]
    }
   ],
   "source": [
    "# MonthNames.py\n",
    "month = int(input(\"Enter the month: \"))\n",
    "\n",
    "months = {\n",
    "    1: \"January\", 2: \"February\", 3: \"March\", 4: \"April\", 5: \"May\", 6: \"June\",\n",
    "    7: \"July\", 8: \"August\", 9: \"September\", 10: \"October\", 11: \"November\", 12: \"December\"\n",
    "}\n",
    "\n",
    "if 1 <= month <= 12:\n",
    "    print(f\"Month {month} is {months[month]}\")\n",
    "else:\n",
    "    print(\"Invalid month number!\")\n",
    "\n"
   ]
  },
  {
   "cell_type": "code",
   "execution_count": 11,
   "id": "d911adc1-ddbb-431c-b2b3-95d61fb354a1",
   "metadata": {},
   "outputs": [
    {
     "name": "stdin",
     "output_type": "stream",
     "text": [
      "Enter your age:  11\n"
     ]
    },
    {
     "name": "stdout",
     "output_type": "stream",
     "text": [
      "Your ticket costs £3.00\n"
     ]
    }
   ],
   "source": [
    "# CinemaTicket.py\n",
    "age = int(input(\"Enter your age: \"))\n",
    "\n",
    "full_price = 6\n",
    "if age < 16:\n",
    "    ticket_price = full_price / 2\n",
    "elif age >= 60:\n",
    "    ticket_price = full_price / 3\n",
    "else:\n",
    "    ticket_price = full_price\n",
    "\n",
    "print(f\"Your ticket costs £{ticket_price:.2f}\")\n"
   ]
  },
  {
   "cell_type": "code",
   "execution_count": 13,
   "id": "34b30b94-d93e-4df2-8ea6-b9455028da17",
   "metadata": {},
   "outputs": [
    {
     "name": "stdin",
     "output_type": "stream",
     "text": [
      "Enter your weight in (kg):  19\n",
      "Enter your height in (m):  5\n"
     ]
    },
    {
     "name": "stdout",
     "output_type": "stream",
     "text": [
      "Your BMI is: 0.76\n",
      "You are in the “underweight” range.\n"
     ]
    }
   ],
   "source": [
    "# BodyMassIndex.py\n",
    "weight = float(input(\"Enter your weight in (kg): \"))\n",
    "height = float(input(\"Enter your height in (m): \"))\n",
    "\n",
    "bmi = weight / (height ** 2)\n",
    "print(f\"Your BMI is: {bmi:.2f}\")\n",
    "\n",
    "if bmi < 18.5:\n",
    "    print(\"You are in the “underweight” range.\")\n",
    "elif 18.5 <= bmi < 25:\n",
    "    print(\"You are in the “normal” range.\")\n",
    "elif 25 <= bmi < 30:\n",
    "    print(\"You are in the “overweight” range.\")\n",
    "else:\n",
    "    print(\"You are in the “obese” range.\")\n"
   ]
  },
  {
   "cell_type": "code",
   "execution_count": 15,
   "id": "c88a7483-0eb8-4d0f-8f57-a77777ccd2c9",
   "metadata": {},
   "outputs": [
    {
     "name": "stdin",
     "output_type": "stream",
     "text": [
      "Enter first number:  1\n",
      "Enter second number:  3\n",
      "Enter third number:  2\n"
     ]
    },
    {
     "name": "stdout",
     "output_type": "stream",
     "text": [
      "The greatest number is: 3.0\n"
     ]
    }
   ],
   "source": [
    "# GreatestNumber.py\n",
    "num1 = float(input(\"Enter first number: \"))\n",
    "num2 = float(input(\"Enter second number: \"))\n",
    "num3 = float(input(\"Enter third number: \"))\n",
    "\n",
    "greatest = max(num1, num2, num3)\n",
    "print(f\"The greatest number is: {greatest}\")\n"
   ]
  },
  {
   "cell_type": "code",
   "execution_count": 17,
   "id": "4501b82d-7963-4ad5-a04a-5b247ec1c721",
   "metadata": {},
   "outputs": [
    {
     "name": "stdin",
     "output_type": "stream",
     "text": [
      "Enter a number:  3\n"
     ]
    },
    {
     "name": "stdout",
     "output_type": "stream",
     "text": [
      "The factorial of 3 is 6\n"
     ]
    }
   ],
   "source": [
    "# Factorial.py\n",
    "num = int(input(\"Enter a number: \"))\n",
    "\n",
    "factorial = 1\n",
    "for i in range(1, num + 1):\n",
    "    factorial *= i\n",
    "\n",
    "print(f\"The factorial of {num} is {factorial}\")\n"
   ]
  },
  {
   "cell_type": "code",
   "execution_count": 21,
   "id": "c4307600-8348-4e87-a7ee-4a51dcfa5cc0",
   "metadata": {},
   "outputs": [
    {
     "name": "stdin",
     "output_type": "stream",
     "text": [
      "Enter a number:  43\n"
     ]
    },
    {
     "name": "stdout",
     "output_type": "stream",
     "text": [
      "The reversed number is 34\n"
     ]
    }
   ],
   "source": [
    "# ReverseNumber.py\n",
    "num = int(input(\"Enter a number: \"))\n",
    "\n",
    "reversed_num = 0\n",
    "while num > 0:\n",
    "    reversed_num = reversed_num * 10 + num % 10\n",
    "    num //= 10\n",
    "\n",
    "print(f\"The reversed number is {reversed_num}\")\n"
   ]
  },
  {
   "cell_type": "code",
   "execution_count": 23,
   "id": "9971d048-83bd-429e-94da-f24adcf0b80f",
   "metadata": {},
   "outputs": [
    {
     "name": "stdin",
     "output_type": "stream",
     "text": [
      "Enter a number:  35\n",
      "Enter the limit:  12\n"
     ]
    },
    {
     "name": "stdout",
     "output_type": "stream",
     "text": [
      "Multiples of 35 up to 12:\n"
     ]
    }
   ],
   "source": [
    "# Multiples.py\n",
    "num = int(input(\"Enter a number: \"))\n",
    "limit = int(input(\"Enter the limit: \"))\n",
    "\n",
    "print(f\"Multiples of {num} up to {limit}:\")\n",
    "for i in range(num, limit + 1, num):\n",
    "    print(i)\n"
   ]
  },
  {
   "cell_type": "code",
   "execution_count": 25,
   "id": "8aece124-539a-401a-ab4a-02eaf6dc64c8",
   "metadata": {},
   "outputs": [
    {
     "name": "stdin",
     "output_type": "stream",
     "text": [
      " done\n"
     ]
    },
    {
     "name": "stdout",
     "output_type": "stream",
     "text": [
      "Done\n"
     ]
    }
   ],
   "source": [
    "# InputLoop.py\n",
    "while True:\n",
    "    user_input = input()\n",
    "    if user_input == 'done':\n",
    "        print(\"Done\")\n",
    "        break\n",
    "    else:\n",
    "        print(user_input)\n"
   ]
  },
  {
   "cell_type": "code",
   "execution_count": 27,
   "id": "09b61ba6-01b2-404c-b856-0f711fcbf98d",
   "metadata": {},
   "outputs": [
    {
     "name": "stdout",
     "output_type": "stream",
     "text": [
      "1\n",
      "2\n",
      "Fizz\n",
      "4\n",
      "Buzz\n",
      "Fizz\n",
      "7\n",
      "8\n",
      "Fizz\n",
      "Buzz\n"
     ]
    }
   ],
   "source": [
    "# FizzBuzz.py\n",
    "for i in range(1, 11):\n",
    "    if i % 3 == 0 and i % 5 == 0:\n",
    "        print(\"FizzBuzz\")\n",
    "    elif i % 3 == 0:\n",
    "        print(\"Fizz\")\n",
    "    elif i % 5 == 0:\n",
    "        print(\"Buzz\")\n",
    "    else:\n",
    "        print(i)\n"
   ]
  },
  {
   "cell_type": "code",
   "execution_count": 29,
   "id": "2699709c-15cb-4a8a-acdc-416fe2f45d15",
   "metadata": {},
   "outputs": [
    {
     "name": "stdout",
     "output_type": "stream",
     "text": [
      "5 4 3 2 1 \n",
      "4 3 2 1 \n",
      "3 2 1 \n",
      "2 1 \n",
      "1 \n"
     ]
    }
   ],
   "source": [
    "# Pattern.py\n",
    "for i in range(5, 0, -1):\n",
    "    for j in range(i, 0, -1):\n",
    "        print(j, end=\" \")\n",
    "    print()\n"
   ]
  },
  {
   "cell_type": "code",
   "execution_count": null,
   "id": "1b660d47-b790-4ec2-b3d7-f684bd1a94e5",
   "metadata": {},
   "outputs": [],
   "source": []
  }
 ],
 "metadata": {
  "kernelspec": {
   "display_name": "Python [conda env:base] *",
   "language": "python",
   "name": "conda-base-py"
  },
  "language_info": {
   "codemirror_mode": {
    "name": "ipython",
    "version": 3
   },
   "file_extension": ".py",
   "mimetype": "text/x-python",
   "name": "python",
   "nbconvert_exporter": "python",
   "pygments_lexer": "ipython3",
   "version": "3.12.7"
  }
 },
 "nbformat": 4,
 "nbformat_minor": 5
}
