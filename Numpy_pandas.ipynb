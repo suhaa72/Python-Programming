{
 "cells": [
  {
   "cell_type": "code",
   "execution_count": 7,
   "id": "fc9c1e19-b7ba-46cd-9d31-f8d41f40b4a7",
   "metadata": {},
   "outputs": [
    {
     "name": "stdout",
     "output_type": "stream",
     "text": [
      "[[ 1  2  3  4  5]\n",
      " [ 6  7  8  9 10]]\n"
     ]
    }
   ],
   "source": [
    "import numpy as np\n",
    "\n",
    "# Create an array from 1 to 10\n",
    "arr = np.arange(1, 11)\n",
    "\n",
    "# Reshape it into a 2x5 matrix\n",
    "matrix = arr.reshape(2, 5)\n",
    "\n",
    "print(matrix)\n",
    "\n"
   ]
  },
  {
   "cell_type": "code",
   "execution_count": 9,
   "id": "382df95c-369c-4d3f-a95b-9afdeb4cd1ce",
   "metadata": {},
   "outputs": [
    {
     "name": "stdout",
     "output_type": "stream",
     "text": [
      "apples     3\n",
      "bananas    2\n",
      "oranges    1\n",
      "pears      4\n",
      "dtype: int64\n"
     ]
    }
   ],
   "source": [
    "import pandas as pd\n",
    "\n",
    "# Create a Pandas Series\n",
    "fruits = pd.Series({'apples': 3, 'bananas': 2, 'oranges': 1})\n",
    "\n",
    "# Add a new item to the series\n",
    "fruits['pears'] = 4\n",
    "\n",
    "print(fruits)\n"
   ]
  },
  {
   "cell_type": "code",
   "execution_count": 11,
   "id": "c6a8b8a0-b546-4127-962b-a26fdbf182a5",
   "metadata": {},
   "outputs": [
    {
     "name": "stdout",
     "output_type": "stream",
     "text": [
      "      name  age gender\n",
      "0    Alice   25      F\n",
      "1      Bob   30      M\n",
      "2  Charlie   22      M\n",
      "3    David   35      M\n",
      "4      Eve   40      F\n",
      "5    Frank   28      M\n",
      "6    Grace   32      F\n",
      "7     Hank   26      M\n",
      "8      Ivy   29      F\n",
      "9     Jack   31      M\n"
     ]
    }
   ],
   "source": [
    "import pandas as pd\n",
    "\n",
    "# Create a DataFrame\n",
    "data = {\n",
    "    'name': ['Alice', 'Bob', 'Charlie', 'David', 'Eve', 'Frank', 'Grace', 'Hank', 'Ivy', 'Jack'],\n",
    "    'age': [25, 30, 22, 35, 40, 28, 32, 26, 29, 31],\n",
    "    'gender': ['F', 'M', 'M', 'M', 'F', 'M', 'F', 'M', 'F', 'M']\n",
    "}\n",
    "\n",
    "df = pd.DataFrame(data)\n",
    "\n",
    "print(df)\n",
    "\n",
    "\n",
    "\n"
   ]
  },
  {
   "cell_type": "code",
   "execution_count": 13,
   "id": "7bb39cc3-c78b-44f0-ac3c-1fd775ceb866",
   "metadata": {},
   "outputs": [
    {
     "name": "stdout",
     "output_type": "stream",
     "text": [
      "      name  age gender  occupation\n",
      "0    Alice   25      F  Programmer\n",
      "1      Bob   30      M     Manager\n",
      "2  Charlie   22      M     Analyst\n",
      "3    David   35      M  Programmer\n",
      "4      Eve   40      F     Manager\n",
      "5    Frank   28      M     Analyst\n",
      "6    Grace   32      F  Programmer\n",
      "7     Hank   26      M     Manager\n",
      "8      Ivy   29      F     Analyst\n",
      "9     Jack   31      M  Programmer\n"
     ]
    }
   ],
   "source": [
    "# Add a new column 'occupation'\n",
    "df['occupation'] = ['Programmer', 'Manager', 'Analyst', 'Programmer', 'Manager', \n",
    "                    'Analyst', 'Programmer', 'Manager', 'Analyst', 'Programmer']\n",
    "\n",
    "print(df)\n",
    "\n",
    "\n",
    "\n"
   ]
  },
  {
   "cell_type": "code",
   "execution_count": 15,
   "id": "4351f83e-aeff-410b-8abb-cdb672fbf011",
   "metadata": {},
   "outputs": [
    {
     "name": "stdout",
     "output_type": "stream",
     "text": [
      "    name  age gender  occupation\n",
      "1    Bob   30      M     Manager\n",
      "3  David   35      M  Programmer\n",
      "4    Eve   40      F     Manager\n",
      "6  Grace   32      F  Programmer\n",
      "9   Jack   31      M  Programmer\n"
     ]
    }
   ],
   "source": [
    "# Select rows where age >= 30\n",
    "df_filtered = df[df['age'] >= 30]\n",
    "\n",
    "print(df_filtered)\n",
    "\n",
    "\n"
   ]
  },
  {
   "cell_type": "code",
   "execution_count": 17,
   "id": "51d45c0d-0556-4a38-861a-600186a70246",
   "metadata": {},
   "outputs": [
    {
     "name": "stdout",
     "output_type": "stream",
     "text": [
      "      name  age gender  occupation\n",
      "0    Alice   25      F  Programmer\n",
      "1      Bob   30      M     Manager\n",
      "2  Charlie   22      M     Analyst\n",
      "3    David   35      M  Programmer\n",
      "4      Eve   40      F     Manager\n",
      "5    Frank   28      M     Analyst\n",
      "6    Grace   32      F  Programmer\n",
      "7     Hank   26      M     Manager\n",
      "8      Ivy   29      F     Analyst\n",
      "9     Jack   31      M  Programmer\n"
     ]
    }
   ],
   "source": [
    "# Save DataFrame to CSV\n",
    "df.to_csv(\"people.csv\", index=False)\n",
    "\n",
    "# Read the CSV file\n",
    "df_csv = pd.read_csv(\"people.csv\")\n",
    "\n",
    "# Display the contents\n",
    "print(df_csv)\n"
   ]
  },
  {
   "cell_type": "code",
   "execution_count": null,
   "id": "cd31c5b8-386a-48f9-86ec-8621a53486bd",
   "metadata": {},
   "outputs": [],
   "source": []
  }
 ],
 "metadata": {
  "kernelspec": {
   "display_name": "Python [conda env:base] *",
   "language": "python",
   "name": "conda-base-py"
  },
  "language_info": {
   "codemirror_mode": {
    "name": "ipython",
    "version": 3
   },
   "file_extension": ".py",
   "mimetype": "text/x-python",
   "name": "python",
   "nbconvert_exporter": "python",
   "pygments_lexer": "ipython3",
   "version": "3.12.7"
  }
 },
 "nbformat": 4,
 "nbformat_minor": 5
}
