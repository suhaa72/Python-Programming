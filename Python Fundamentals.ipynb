{
 "cells": [
  {
   "cell_type": "markdown",
   "id": "e16c71b1-8373-4171-a54e-142945d814a9",
   "metadata": {},
   "source": [
    "## Python Fundamentals"
   ]
  },
  {
   "cell_type": "code",
   "execution_count": 1,
   "id": "6119312b-0b8a-4176-995d-35f930f20750",
   "metadata": {
    "jupyter": {
     "source_hidden": true
    }
   },
   "outputs": [
    {
     "name": "stdout",
     "output_type": "stream",
     "text": [
      "Bob\n",
      "ST1001\n",
      "bob@gmail.com\n"
     ]
    }
   ],
   "source": [
    "print(\"Bob\")\n",
    "print(\"ST1001\")\n",
    "print(\"bob@gmail.com\")\n"
   ]
  },
  {
   "cell_type": "code",
   "execution_count": 3,
   "id": "9f679088-b975-4626-ada8-5e040036a660",
   "metadata": {},
   "outputs": [
    {
     "name": "stdout",
     "output_type": "stream",
     "text": [
      "Bob\n",
      "ST1001\n",
      "bob@gmail.com\n"
     ]
    }
   ],
   "source": [
    "print(\"Bob\\nST1001\\nbob@gmail.com\")\n"
   ]
  },
  {
   "cell_type": "code",
   "execution_count": 5,
   "id": "7ee91b71-740d-40f2-bb15-16374dc67635",
   "metadata": {},
   "outputs": [
    {
     "name": "stdout",
     "output_type": "stream",
     "text": [
      "14 + 7 = 21\n",
      "14 * 7 = 98\n",
      "14 - 7 = 7\n",
      "14 / 7 = 2.0\n"
     ]
    }
   ],
   "source": [
    "num1 = 14\n",
    "num2 = 7\n",
    "\n",
    "# Addition\n",
    "print(f\"{num1} + {num2} = {num1 + num2}\")\n",
    "\n",
    "# Multiplication\n",
    "print(f\"{num1} * {num2} = {num1 * num2}\")\n",
    "\n",
    "# Subtraction\n",
    "print(f\"{num1} - {num2} = {num1 - num2}\")\n",
    "\n",
    "# Division\n",
    "print(f\"{num1} / {num2} = {num1 / num2}\")\n"
   ]
  },
  {
   "cell_type": "code",
   "execution_count": 7,
   "id": "26fe016d-f9aa-45b9-877e-1ce78f6fe209",
   "metadata": {},
   "outputs": [
    {
     "name": "stdout",
     "output_type": "stream",
     "text": [
      "1\n",
      "2\n",
      "3\n",
      "4\n",
      "5\n"
     ]
    }
   ],
   "source": [
    "for i in range(1, 6):\n",
    "    print(i)\n"
   ]
  },
  {
   "cell_type": "code",
   "execution_count": 9,
   "id": "014f03c1-27a8-43d9-8259-ee3c7c00833a",
   "metadata": {},
   "outputs": [
    {
     "name": "stdout",
     "output_type": "stream",
     "text": [
      "\"SDK\" stands for \"Software Development Kit\", whereas\n",
      "\"IDE\" stands for \"Integrated Development Environment\"\n"
     ]
    }
   ],
   "source": [
    "print(\"\\\"SDK\\\" stands for \\\"Software Development Kit\\\", whereas\")\n",
    "print(\"\\\"IDE\\\" stands for \\\"Integrated Development Environment\\\"\")\n"
   ]
  },
  {
   "cell_type": "code",
   "execution_count": 15,
   "id": "05e26ae6-a685-49e8-b2ae-9bd1af7fed8b",
   "metadata": {},
   "outputs": [
    {
     "name": "stdout",
     "output_type": "stream",
     "text": [
      "python is an \"awesome\" language.\n",
      "python\n",
      "\t2023\n",
      "I'm from Entri\n",
      "5\n",
      "e\n",
      "Entri\n",
      "2023\n",
      "Entr2023\n",
      "Entri*20"
     ]
    }
   ],
   "source": [
    "print(\"python is an \\\"awesome\\\" language.\")\n",
    "print(\"python\\n\\t2023\")\n",
    "print('I\\'m from Entri.\\b')\n",
    "print(\"\\65\")\n",
    "print(\"\\x65\")\n",
    "print(\"Entri\", \"2023\", sep=\"\\n\")\n",
    "print(\"Entri\", \"2023\", sep=\"\\b\")\n",
    "print(\"Entri\", \"2023\", sep=\"*\", end=\"\\b\\b\\b\\b\")\n",
    "\n",
    "\n"
   ]
  },
  {
   "cell_type": "code",
   "execution_count": 17,
   "id": "91f3ac2e-fb74-495c-b370-24232c6a9609",
   "metadata": {},
   "outputs": [
    {
     "name": "stdout",
     "output_type": "stream",
     "text": [
      "The type of num is: <class 'int'>\n",
      "The type of textnum is: <class 'str'>\n",
      "The type of decimal is: <class 'float'>\n",
      "The sum of the variables is: 178.3\n",
      "The datatype of the sum is: <class 'float'>\n"
     ]
    }
   ],
   "source": [
    "# Defining the variables\n",
    "num = 23\n",
    "textnum = \"57\"\n",
    "decimal = 98.3\n",
    "\n",
    "# Printing the types of each variable\n",
    "print(f\"The type of num is: {type(num)}\")\n",
    "print(f\"The type of textnum is: {type(textnum)}\")\n",
    "print(f\"The type of decimal is: {type(decimal)}\")\n",
    "\n",
    "# Converting textnum to integer and calculating the sum\n",
    "sum_value = num + int(textnum) + decimal\n",
    "\n",
    "# Printing the sum and its datatype\n",
    "print(f\"The sum of the variables is: {sum_value}\")\n",
    "print(f\"The datatype of the sum is: {type(sum_value)}\")\n"
   ]
  },
  {
   "cell_type": "code",
   "execution_count": 19,
   "id": "4b071768-427c-4aa8-909f-f0bbab8b53f5",
   "metadata": {},
   "outputs": [
    {
     "name": "stdout",
     "output_type": "stream",
     "text": [
      "This code calculates the total number of minutes in a year.\n",
      "Total minutes in a year: 525600\n"
     ]
    }
   ],
   "source": [
    "# Defining the variables\n",
    "days_in_year = 365  # Number of days in a year\n",
    "hours_in_day = 24   # Number of hours in a day\n",
    "minutes_in_hour = 60  # Number of minutes in an hour\n",
    "\n",
    "# Calculating total minutes in a year\n",
    "total_minutes_in_year = days_in_year * hours_in_day * minutes_in_hour\n",
    "\n",
    "# Printing the result with a description\n",
    "print(\"This code calculates the total number of minutes in a year.\")\n",
    "print(f\"Total minutes in a year: {total_minutes_in_year}\")\n"
   ]
  },
  {
   "cell_type": "code",
   "execution_count": 23,
   "id": "3a19309d-0cea-4053-84b6-a37ea6b4b561",
   "metadata": {},
   "outputs": [
    {
     "name": "stdin",
     "output_type": "stream",
     "text": [
      "Please enter your name:  tony\n"
     ]
    },
    {
     "name": "stdout",
     "output_type": "stream",
     "text": [
      "Hi tony, welcome to Python programming :)\n"
     ]
    }
   ],
   "source": [
    "# Asking the user for their name\n",
    "name = input(\"Please enter your name: \")\n",
    "\n",
    "# Printing a greeting message\n",
    "print(f\"Hi {name}, welcome to Python programming :)\")\n"
   ]
  },
  {
   "cell_type": "code",
   "execution_count": 25,
   "id": "2a6d8b3b-7728-43eb-a5a8-eb37d8949e31",
   "metadata": {},
   "outputs": [
    {
     "name": "stdin",
     "output_type": "stream",
     "text": [
      "Please enter amount in pounds:  50\n"
     ]
    },
    {
     "name": "stdout",
     "output_type": "stream",
     "text": [
      "£50.0 are $65.00\n"
     ]
    }
   ],
   "source": [
    "# Asking the user for the amount in pounds\n",
    "pounds = float(input(\"Please enter amount in pounds: \"))\n",
    "\n",
    "# Assuming a conversion rate of 1 GBP = 1.3 USD (you can adjust this rate as needed)\n",
    "dollars = pounds * 1.3\n",
    "\n",
    "# Printing the result\n",
    "print(f\"£{pounds} are ${dollars:.2f}\")\n"
   ]
  },
  {
   "cell_type": "code",
   "execution_count": null,
   "id": "7bb64530-5626-422a-8b14-88aab50c633c",
   "metadata": {},
   "outputs": [],
   "source": []
  }
 ],
 "metadata": {
  "kernelspec": {
   "display_name": "Python [conda env:base] *",
   "language": "python",
   "name": "conda-base-py"
  },
  "language_info": {
   "codemirror_mode": {
    "name": "ipython",
    "version": 3
   },
   "file_extension": ".py",
   "mimetype": "text/x-python",
   "name": "python",
   "nbconvert_exporter": "python",
   "pygments_lexer": "ipython3",
   "version": "3.12.7"
  }
 },
 "nbformat": 4,
 "nbformat_minor": 5
}
