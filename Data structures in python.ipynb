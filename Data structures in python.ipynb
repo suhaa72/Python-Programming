{
 "cells": [
  {
   "cell_type": "code",
   "execution_count": 1,
   "id": "11135d2a-794d-44fb-ab56-30eb2f294181",
   "metadata": {},
   "outputs": [
    {
     "name": "stdout",
     "output_type": "stream",
     "text": [
      "Original list: [23, 56, 12, 8, 34]\n"
     ]
    }
   ],
   "source": [
    "# Creating a list of 5 random numbers\n",
    "random_numbers = [23, 56, 12, 8, 34]\n",
    "\n",
    "# Printing the list\n",
    "print(\"Original list:\", random_numbers)\n"
   ]
  },
  {
   "cell_type": "code",
   "execution_count": 3,
   "id": "02e0a6d4-fd17-4c85-a1d6-11db3849d4ff",
   "metadata": {},
   "outputs": [
    {
     "name": "stdout",
     "output_type": "stream",
     "text": [
      "Updated list: [23, 56, 12, 8, 34, 78, 42, 19]\n"
     ]
    }
   ],
   "source": [
    "# Inserting 3 new values into the list\n",
    "random_numbers.append(78)\n",
    "random_numbers.append(42)\n",
    "random_numbers.append(19)\n",
    "\n",
    "# Printing the updated list\n",
    "print(\"Updated list:\", random_numbers)\n"
   ]
  },
  {
   "cell_type": "code",
   "execution_count": 5,
   "id": "5cc85ad1-83bb-4f0e-ac0d-16b4d89ae98d",
   "metadata": {},
   "outputs": [
    {
     "name": "stdout",
     "output_type": "stream",
     "text": [
      "Elements in the list:\n",
      "23\n",
      "56\n",
      "12\n",
      "8\n",
      "34\n",
      "78\n",
      "42\n",
      "19\n"
     ]
    }
   ],
   "source": [
    "# Using a for loop to print each element in the list\n",
    "print(\"Elements in the list:\")\n",
    "for num in random_numbers:\n",
    "    print(num)\n"
   ]
  },
  {
   "cell_type": "code",
   "execution_count": 7,
   "id": "4930e97b-4d90-4354-960b-c40fcc1ee31f",
   "metadata": {},
   "outputs": [
    {
     "name": "stdout",
     "output_type": "stream",
     "text": [
      "Dictionary: {'name': 'John', 'age': 25, 'address': 'New York'}\n"
     ]
    }
   ],
   "source": [
    "# Creating a dictionary\n",
    "person = {\n",
    "    'name': 'John',\n",
    "    'age': 25,\n",
    "    'address': 'New York'\n",
    "}\n",
    "\n",
    "# Printing the dictionary\n",
    "print(\"Dictionary:\", person)\n"
   ]
  },
  {
   "cell_type": "code",
   "execution_count": 9,
   "id": "4879187a-99a6-490d-9624-cc6a0e1132c2",
   "metadata": {},
   "outputs": [
    {
     "name": "stdout",
     "output_type": "stream",
     "text": [
      "Updated dictionary: {'name': 'John', 'age': 25, 'address': 'New York', 'phone': '1234567890'}\n"
     ]
    }
   ],
   "source": [
    "# Adding a new key-value pair to the dictionary\n",
    "person['phone'] = '1234567890'\n",
    "\n",
    "# Printing the updated dictionary\n",
    "print(\"Updated dictionary:\", person)\n"
   ]
  },
  {
   "cell_type": "code",
   "execution_count": 11,
   "id": "cb327734-a72f-442a-b49b-3ca1f9ea1fde",
   "metadata": {},
   "outputs": [
    {
     "name": "stdout",
     "output_type": "stream",
     "text": [
      "Original set: {1, 2, 3, 4, 5}\n"
     ]
    }
   ],
   "source": [
    "# Creating a set with values 1, 2, 3, 4, and 5\n",
    "my_set = {1, 2, 3, 4, 5}\n",
    "\n",
    "# Printing the set\n",
    "print(\"Original set:\", my_set)\n"
   ]
  },
  {
   "cell_type": "code",
   "execution_count": 13,
   "id": "97298c80-e4ae-4384-9f2a-2279833ee411",
   "metadata": {},
   "outputs": [
    {
     "name": "stdout",
     "output_type": "stream",
     "text": [
      "Updated set: {1, 2, 3, 4, 5, 6}\n"
     ]
    }
   ],
   "source": [
    "# Adding the value 6 to the set\n",
    "my_set.add(6)\n",
    "\n",
    "# Printing the updated set\n",
    "print(\"Updated set:\", my_set)\n"
   ]
  },
  {
   "cell_type": "code",
   "execution_count": null,
   "id": "bcda3a92-3342-48fa-a2a0-a9b42a9965e4",
   "metadata": {},
   "outputs": [],
   "source": [
    "# Removing the value 3 from the set\n",
    "my_set.remove(3)\n",
    "\n",
    "# Printing the updated set\n",
    "print(\"Set after removal of 3:\", my_set)\n"
   ]
  }
 ],
 "metadata": {
  "kernelspec": {
   "display_name": "Python [conda env:base] *",
   "language": "python",
   "name": "conda-base-py"
  },
  "language_info": {
   "codemirror_mode": {
    "name": "ipython",
    "version": 3
   },
   "file_extension": ".py",
   "mimetype": "text/x-python",
   "name": "python",
   "nbconvert_exporter": "python",
   "pygments_lexer": "ipython3",
   "version": "3.12.7"
  }
 },
 "nbformat": 4,
 "nbformat_minor": 5
}
