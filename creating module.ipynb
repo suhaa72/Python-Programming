{
 "cells": [
  {
   "cell_type": "code",
   "execution_count": 1,
   "id": "b0a209bd-89b7-449d-b44c-9b42ec03b869",
   "metadata": {},
   "outputs": [],
   "source": [
    "# employee.py\n",
    "\n",
    "class Employee:\n",
    "    def __init__(self, name, salary):\n",
    "        self.name = name\n",
    "        self.salary = salary\n",
    "\n",
    "    def get_name(self):\n",
    "        return self.name\n",
    "\n",
    "    def get_salary(self):\n",
    "        return self.salary\n"
   ]
  },
  {
   "cell_type": "code",
   "execution_count": 7,
   "id": "cfdea396-cfb8-4321-b152-55c13c542e0d",
   "metadata": {},
   "outputs": [],
   "source": [
    "import employee\n"
   ]
  },
  {
   "cell_type": "code",
   "execution_count": null,
   "id": "1e4f63b0-9b70-4651-9d0c-a878008d7aae",
   "metadata": {},
   "outputs": [],
   "source": []
  }
 ],
 "metadata": {
  "kernelspec": {
   "display_name": "Python [conda env:base] *",
   "language": "python",
   "name": "conda-base-py"
  },
  "language_info": {
   "codemirror_mode": {
    "name": "ipython",
    "version": 3
   },
   "file_extension": ".py",
   "mimetype": "text/x-python",
   "name": "python",
   "nbconvert_exporter": "python",
   "pygments_lexer": "ipython3",
   "version": "3.12.7"
  }
 },
 "nbformat": 4,
 "nbformat_minor": 5
}
