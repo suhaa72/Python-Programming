{
 "cells": [
  {
   "cell_type": "code",
   "execution_count": 1,
   "id": "418032a9-50cc-4d01-bf6f-ca5e581ea60f",
   "metadata": {},
   "outputs": [
    {
     "name": "stdout",
     "output_type": "stream",
     "text": [
      "Length of the list: 5\n"
     ]
    }
   ],
   "source": [
    "# 1. len() function in Python\n",
    "# The len() function returns the number of items in an object (e.g., list, string, tuple, etc.)\n",
    "\n",
    "# Example usage of len() to find the length of a list\n",
    "my_list = [10, 20, 30, 40, 50]\n",
    "print(\"Length of the list:\", len(my_list)) "
   ]
  },
  {
   "cell_type": "code",
   "execution_count": 3,
   "id": "e6199cfd-9aa4-4abb-b320-70985b72758d",
   "metadata": {},
   "outputs": [],
   "source": [
    "# 2. Function to greet a user\n",
    "def greet(name):\n",
    "    \"\"\"Takes a person's name as input and prints a greeting.\"\"\"\n",
    "    print(f\"Hello, {name}!\")\n",
    "    "
   ]
  },
  {
   "cell_type": "code",
   "execution_count": 5,
   "id": "e7c6e2d0-bfb8-4861-8ade-38927f1cb0db",
   "metadata": {},
   "outputs": [
    {
     "name": "stdout",
     "output_type": "stream",
     "text": [
      "Hello, Alice!\n"
     ]
    }
   ],
   "source": [
    "greet(\"Alice\")\n",
    "\n",
    "\n"
   ]
  },
  {
   "cell_type": "code",
   "execution_count": 12,
   "id": "058d3f7a-bec0-425c-8898-3b3e9cc2dce9",
   "metadata": {},
   "outputs": [],
   "source": [
    "def find_maximum(numbers):\n",
    "    \"\"\"Takes a list of integers and returns the maximum value using a loop.\"\"\"\n",
    "    if not numbers:\n",
    "        return None  # Handle empty list case\n",
    "    \n",
    "    max_value = numbers[0]  # Assume first element is max\n",
    "    for num in numbers:\n",
    "        if num > max_value:\n",
    "            max_value = num\n",
    "    return max_value\n",
    "\n"
   ]
  },
  {
   "cell_type": "code",
   "execution_count": 14,
   "id": "5b8f41a9-76a7-41eb-ad77-415112df91f5",
   "metadata": {},
   "outputs": [
    {
     "name": "stdout",
     "output_type": "stream",
     "text": [
      "Maximum value: 10\n"
     ]
    }
   ],
   "source": [
    "num_list = [3, 8, 2, 10, 5]\n",
    "print(\"Maximum value:\", find_maximum(num_list))"
   ]
  },
  {
   "cell_type": "code",
   "execution_count": 16,
   "id": "3849bbc6-980e-4c4e-81b8-b14cb4fd665f",
   "metadata": {},
   "outputs": [],
   "source": [
    "# 4. Local vs Global Variables Demonstration\n",
    "global_var = \"I am global\"  # This is a global variable\n",
    "\n",
    "def variable_scope():\n",
    "    \"\"\"Demonstrates the difference between local and global variables.\"\"\"\n",
    "    global_var = \"I am local\"  # This is a local variable (same name as global)\n",
    "    print(\"Inside function:\", global_var)  # Accesses local variable\n",
    "\n",
    "\n",
    "\n",
    "\n"
   ]
  },
  {
   "cell_type": "code",
   "execution_count": 18,
   "id": "315a0f0d-dc29-41a9-9a12-f243c3e056c9",
   "metadata": {},
   "outputs": [
    {
     "name": "stdout",
     "output_type": "stream",
     "text": [
      "Inside function: I am local\n",
      "Outside function: I am global\n"
     ]
    }
   ],
   "source": [
    "variable_scope()\n",
    "print(\"Outside function:\", global_var)  # Accesses global variable\n",
    "\n"
   ]
  },
  {
   "cell_type": "code",
   "execution_count": 20,
   "id": "31c9d6b9-9fef-40cd-a560-d4d7d3cb3244",
   "metadata": {},
   "outputs": [],
   "source": [
    "# 5. Function to calculate the area of a rectangle with a default width value\n",
    "def calculate_area(length, width=5):\n",
    "    \"\"\"Calculates the area of a rectangle. Uses a default width of 5 if not provided.\"\"\"\n",
    "    return length * width\n",
    "\n"
   ]
  },
  {
   "cell_type": "code",
   "execution_count": null,
   "id": "71fbf1a2-eeec-4dbd-8817-9487098a4a29",
   "metadata": {},
   "outputs": [],
   "source": []
  }
 ],
 "metadata": {
  "kernelspec": {
   "display_name": "Python [conda env:base] *",
   "language": "python",
   "name": "conda-base-py"
  },
  "language_info": {
   "codemirror_mode": {
    "name": "ipython",
    "version": 3
   },
   "file_extension": ".py",
   "mimetype": "text/x-python",
   "name": "python",
   "nbconvert_exporter": "python",
   "pygments_lexer": "ipython3",
   "version": "3.12.7"
  }
 },
 "nbformat": 4,
 "nbformat_minor": 5
}
